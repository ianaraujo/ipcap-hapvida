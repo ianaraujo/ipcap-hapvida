{
 "cells": [
  {
   "cell_type": "markdown",
   "metadata": {},
   "source": [
    "# Beneficiários"
   ]
  },
  {
   "cell_type": "code",
   "execution_count": 1,
   "metadata": {},
   "outputs": [],
   "source": [
    "import os\n",
    "import requests\n",
    "\n",
    "import pandas as pd\n",
    "import numpy as np\n",
    "\n",
    "from io import BytesIO\n",
    "from collections import defaultdict"
   ]
  },
  {
   "cell_type": "markdown",
   "metadata": {},
   "source": [
    "### Códigos ANS (RI Hapvida)"
   ]
  },
  {
   "cell_type": "code",
   "execution_count": 2,
   "metadata": {},
   "outputs": [],
   "source": [
    "# donwload dos códigos ANS de Hapvida e GNDI\n",
    "\n",
    "RI_URL = 'https://api.mziq.com/mzfilemanager/v2/d/6bbd1770-f9f4-44e8-a1b1-d26b7585eec1/6d20a378-c816-6a0a-ad88-d557761215bd?origin=1'\n",
    "\n",
    "def ans_codes(url, empresa):\n",
    "    response = requests.get(url)\n",
    "    content = response.content\n",
    "\n",
    "    if empresa == 'HAPVIDA':\n",
    "        df = pd.read_excel(BytesIO(content), sheet_name='Códigos ANS_ANS Code', skiprows=1, nrows=28, usecols=[0,1,2,3,4])\n",
    "        df.columns = ['CD_ANS', 'EMPRESA', 'GRUPO', 'ASSINATURA', 'FECHAMENTO']\n",
    "\n",
    "    elif empresa == 'GNDI':\n",
    "        df = pd.read_excel(BytesIO(content), sheet_name='Códigos ANS_ANS Code', skiprows=1, nrows=33, usecols=[6, 7, 8, 9])\n",
    "        df.columns = ['CD_ANS', 'EMPRESA', 'ASSINATURA', 'FECHAMENTO']\n",
    "\n",
    "    else:\n",
    "        raise ValueError(\"Invalid empresa value. Must be 'HAPVIDA' or 'GNDI'.\")\n",
    "\n",
    "    return df"
   ]
  },
  {
   "cell_type": "code",
   "execution_count": 3,
   "metadata": {},
   "outputs": [
    {
     "data": {
      "text/plain": [
       "(28,)"
      ]
     },
     "execution_count": 3,
     "metadata": {},
     "output_type": "execute_result"
    }
   ],
   "source": [
    "# download hapvida ANS codes\n",
    "\n",
    "hapvida = ans_codes(RI_URL, 'HAPVIDA')\n",
    "hapvida_codes = hapvida['CD_ANS'].astype('int32')\n",
    "\n",
    "hapvida_codes.shape\n"
   ]
  },
  {
   "cell_type": "code",
   "execution_count": 4,
   "metadata": {},
   "outputs": [
    {
     "data": {
      "text/plain": [
       "(20,)"
      ]
     },
     "execution_count": 4,
     "metadata": {},
     "output_type": "execute_result"
    }
   ],
   "source": [
    "intermedica = ans_codes(RI_URL, 'GNDI')\n",
    "\n",
    "intermedica_codes = intermedica['CD_ANS'].dropna()\n",
    "intermedica_codes = intermedica_codes.iloc[:-1].tolist() + intermedica_codes.iloc[-1].split('/')\n",
    "intermedica_codes = pd.Series(intermedica_codes).astype('int32')\n",
    "\n",
    "intermedica_codes.shape\n"
   ]
  },
  {
   "cell_type": "code",
   "execution_count": 5,
   "metadata": {},
   "outputs": [
    {
     "data": {
      "text/plain": [
       "(48,)"
      ]
     },
     "execution_count": 5,
     "metadata": {},
     "output_type": "execute_result"
    }
   ],
   "source": [
    "# combine all closings codes\n",
    "\n",
    "combined_codes = pd.concat([hapvida_codes, intermedica_codes], ignore_index=True)\n",
    "\n",
    "combined_codes.shape"
   ]
  },
  {
   "cell_type": "markdown",
   "metadata": {},
   "source": [
    "### Market Share"
   ]
  },
  {
   "cell_type": "code",
   "execution_count": 6,
   "metadata": {},
   "outputs": [
    {
     "name": "stdout",
     "output_type": "stream",
     "text": [
      "<class 'pandas.core.frame.DataFrame'>\n",
      "RangeIndex: 48053419 entries, 0 to 48053418\n",
      "Data columns (total 4 columns):\n",
      " #   Column                 Dtype\n",
      "---  ------                 -----\n",
      " 0   #ID_CMPT_MOVEL         int32\n",
      " 1   CD_OPERADORA           int32\n",
      " 2   COBERTURA_ASSIST_PLAN  int32\n",
      " 3   QT_BENEFICIARIO_ATIVO  int32\n",
      "dtypes: int32(4)\n",
      "memory usage: 733.2 MB\n"
     ]
    }
   ],
   "source": [
    "# download SIB data\n",
    "types = defaultdict(lambda: 'int32')\n",
    "\n",
    "data = pd.concat([pd.read_csv(f'data/{file}', dtype=types) for file in os.listdir('data') if os.path.getsize(f'data/{file}') > 0], ignore_index=True)\n",
    "data = data.astype(np.int32)\n",
    "\n",
    "data.info()\n"
   ]
  },
  {
   "cell_type": "code",
   "execution_count": 7,
   "metadata": {},
   "outputs": [
    {
     "data": {
      "text/plain": [
       "#ID_CMPT_MOVEL\n",
       "202206    49523045\n",
       "202209    49899062\n",
       "202212    50108199\n",
       "Name: QT_BENEFICIARIO_ATIVO, dtype: int32"
      ]
     },
     "execution_count": 7,
     "metadata": {},
     "output_type": "execute_result"
    }
   ],
   "source": [
    "data.loc[data['COBERTURA_ASSIST_PLAN'] == 1, :].groupby('#ID_CMPT_MOVEL')['QT_BENEFICIARIO_ATIVO'].sum()"
   ]
  },
  {
   "cell_type": "code",
   "execution_count": 8,
   "metadata": {},
   "outputs": [
    {
     "name": "stdout",
     "output_type": "stream",
     "text": [
      "Porcentagem de beneficiários Hapvida: 10.91%\n"
     ]
    }
   ],
   "source": [
    "filtered_data = data.loc[(data['COBERTURA_ASSIST_PLAN'] == 1) & (data['#ID_CMPT_MOVEL'] == 202212), :].copy()\n",
    "\n",
    "filtered_data['CAT_OPERADORA'] = np.where(filtered_data['CD_OPERADORA'].isin(combined_codes), 1, 0)\n",
    "\n",
    "grouped_data = filtered_data.groupby('CAT_OPERADORA')['QT_BENEFICIARIO_ATIVO'].sum()\n",
    "\n",
    "percentage_data = grouped_data / grouped_data.sum() * 100\n",
    "\n",
    "print(f'Porcentagem de beneficiários Hapvida: {percentage_data[1]:.2f}%')\n"
   ]
  },
  {
   "cell_type": "code",
   "execution_count": 9,
   "metadata": {},
   "outputs": [
    {
     "name": "stdout",
     "output_type": "stream",
     "text": [
      "Porcentagem de planos Hapvida: 8.56%\n"
     ]
    }
   ],
   "source": [
    "filtered_data = data.loc[(data['COBERTURA_ASSIST_PLAN'] == 1) & (data['#ID_CMPT_MOVEL'] == 202212), :].copy()\n",
    "\n",
    "filtered_data['CAT_OPERADORA'] = np.where(filtered_data['CD_OPERADORA'].isin(combined_codes), 1, 0)\n",
    "\n",
    "grouped_data = filtered_data.groupby('CAT_OPERADORA').size()\n",
    "\n",
    "percentage_data = grouped_data / grouped_data.sum() * 100\n",
    "\n",
    "print(f'Porcentagem de planos Hapvida: {percentage_data[1]:.2f}%')"
   ]
  }
 ],
 "metadata": {
  "kernelspec": {
   "display_name": "env",
   "language": "python",
   "name": "python3"
  },
  "language_info": {
   "codemirror_mode": {
    "name": "ipython",
    "version": 3
   },
   "file_extension": ".py",
   "mimetype": "text/x-python",
   "name": "python",
   "nbconvert_exporter": "python",
   "pygments_lexer": "ipython3",
   "version": "3.11.5"
  }
 },
 "nbformat": 4,
 "nbformat_minor": 2
}
