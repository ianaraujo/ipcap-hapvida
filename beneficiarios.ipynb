{
 "cells": [
  {
   "cell_type": "markdown",
   "metadata": {},
   "source": [
    "# Beneficiários"
   ]
  },
  {
   "cell_type": "code",
   "execution_count": 1,
   "metadata": {},
   "outputs": [],
   "source": [
    "import tempfile\n",
    "import requests\n",
    "\n",
    "import pandas as pd\n",
    "import numpy as np\n",
    "\n",
    "import src.info_beneficiarios as ib "
   ]
  },
  {
   "cell_type": "code",
   "execution_count": 2,
   "metadata": {},
   "outputs": [],
   "source": [
    "# donwload dos códigos ANS de Hapvida e GNDI\n",
    "\n",
    "RI_URL = 'https://api.mziq.com/mzfilemanager/v2/d/6bbd1770-f9f4-44e8-a1b1-d26b7585eec1/6d20a378-c816-6a0a-ad88-d557761215bd?origin=1'\n",
    "\n",
    "def ans_codes(url, empresa):\n",
    "    response = requests.get(url)\n",
    "\n",
    "    temp_file = tempfile.NamedTemporaryFile(delete=False)\n",
    "    temp_file.write(response.content)\n",
    "\n",
    "    if empresa == 'HAPVIDA':\n",
    "        df = pd.read_excel(temp_file.name, sheet_name='Códigos ANS_ANS Code', skiprows=1, nrows=20, usecols=[0,1,2,3,4])\n",
    "        df.columns = ['CD_ANS', 'EMPRESA', 'GRUPO', 'ASSINATURA', 'FECHAMENTO']\n",
    "\n",
    "    elif empresa == 'GNDI':\n",
    "        df = pd.read_excel(temp_file.name, sheet_name='Códigos ANS_ANS Code', skiprows=1, nrows=20, usecols=[6, 7, 8, 9])\n",
    "        df.columns = ['CD_ANS', 'EMPRESA', 'ASSINATURA', 'FECHAMENTO']\n",
    "\n",
    "    else:\n",
    "        raise ValueError(\"Invalid empresa value. Must be 'HAPVIDA' or 'GNDI'.\")\n",
    "\n",
    "    # df['CD_ANS'] = df['CD_ANS'].astype(object)\n",
    "    \n",
    "    temp_file.close()\n",
    "    \n",
    "    return df"
   ]
  },
  {
   "cell_type": "code",
   "execution_count": 3,
   "metadata": {},
   "outputs": [
    {
     "data": {
      "text/plain": [
       "0    368253.0\n",
       "1    415847.0\n",
       "2    351091.0\n",
       "3    302091.0\n",
       "4    323811.0\n",
       "5    309338.0\n",
       "6    339539.0\n",
       "7    333328.0\n",
       "8    365319.0\n",
       "9    405604.0\n",
       "Name: CD_ANS, dtype: object"
      ]
     },
     "execution_count": 3,
     "metadata": {},
     "output_type": "execute_result"
    }
   ],
   "source": [
    "# download ANS codes\n",
    "\n",
    "hapvida = ans_codes(RI_URL, 'HAPVIDA')\n",
    "intermedica = ans_codes(RI_URL, 'GNDI')\n",
    "\n",
    "combined_codes = pd.concat([hapvida.iloc[:, :2], intermedica.iloc[:, :2]])\n",
    "combined_codes = combined_codes.dropna(subset=['CD_ANS'])['CD_ANS'].astype(str)\n",
    "\n",
    "combined_codes.head(10)\n"
   ]
  },
  {
   "cell_type": "code",
   "execution_count": 4,
   "metadata": {},
   "outputs": [
    {
     "name": "stdout",
     "output_type": "stream",
     "text": [
      "Error fetching https://dadosabertos.ans.gov.br/FTP/PDA/informacoes_consolidadas_de_beneficiarios/202311: 404 Client Error: Not Found for url: https://dadosabertos.ans.gov.br/FTP/PDA/informacoes_consolidadas_de_beneficiarios/202311\n",
      "Error fetching https://dadosabertos.ans.gov.br/FTP/PDA/informacoes_consolidadas_de_beneficiarios/202312: 404 Client Error: Not Found for url: https://dadosabertos.ans.gov.br/FTP/PDA/informacoes_consolidadas_de_beneficiarios/202312\n"
     ]
    }
   ],
   "source": [
    "# download SIB data\n",
    "\n",
    "data = ib.download_data(start_year=2019, end_year=2023)\n",
    "\n",
    "data.head()"
   ]
  }
 ],
 "metadata": {
  "kernelspec": {
   "display_name": "env",
   "language": "python",
   "name": "python3"
  },
  "language_info": {
   "codemirror_mode": {
    "name": "ipython",
    "version": 3
   },
   "file_extension": ".py",
   "mimetype": "text/x-python",
   "name": "python",
   "nbconvert_exporter": "python",
   "pygments_lexer": "ipython3",
   "version": "3.11.5"
  }
 },
 "nbformat": 4,
 "nbformat_minor": 2
}
