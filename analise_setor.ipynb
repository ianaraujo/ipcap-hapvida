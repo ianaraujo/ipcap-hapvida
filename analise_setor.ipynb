{
 "cells": [
  {
   "cell_type": "markdown",
   "metadata": {},
   "source": [
    "# Dados do Setor de Saúde\n",
    "\n",
    "Este notebook tem como objetivo analisar os indicadores mais importantes ou principais sobre o setor de saúde suplementar, sendo eles principalmente: sinistralidade, taxa de cobertura, número de operadores e VCHM."
   ]
  },
  {
   "cell_type": "code",
   "execution_count": 6,
   "metadata": {},
   "outputs": [],
   "source": [
    "import pandas as pd\n",
    "import numpy as np\n",
    "\n",
    "import src.demonstracoes_contabeis as dc"
   ]
  },
  {
   "cell_type": "markdown",
   "metadata": {},
   "source": [
    "## Sinistralidade\n",
    "\n",
    "Segundo informações divulgada pela ANS, o cálculo da SINISTRALIDADE deve seguir a seguinte fórmula:\n",
    "\n",
    "<br>\n",
    "\n",
    "$$\n",
    "Sinistralidade = \\frac{\\text{Eventos Indenizáveis Líquidos} + |CCT|}{\\text{Receitas com Operações de Assistência a Saúde} + |CCT|}\n",
    "$$\n",
    "\n",
    "<br>\n",
    "\n",
    "Essas informações nos demonstrativos contábeis correspondem aos códigos:\n",
    "\n",
    "- Eventos Indenizáveis Líquidos - 41\n",
    "- Receitas com Operações de Assistência a Saúde - 31\n",
    "- Contraprestações de Corresponsabilidade Cedida (CCT) - 3117, 31171"
   ]
  },
  {
   "cell_type": "code",
   "execution_count": 7,
   "metadata": {},
   "outputs": [
    {
     "name": "stdout",
     "output_type": "stream",
     "text": [
      "<class 'pandas.core.frame.DataFrame'>\n",
      "RangeIndex: 9142584 entries, 0 to 9142583\n",
      "Data columns (total 4 columns):\n",
      " #   Column             Dtype \n",
      "---  ------             ----- \n",
      " 0   DATA               object\n",
      " 1   REG_ANS            int64 \n",
      " 2   CD_CONTA_CONTABIL  int64 \n",
      " 3   VL_SALDO_FINAL     object\n",
      "dtypes: int64(2), object(2)\n",
      "memory usage: 279.0+ MB\n"
     ]
    }
   ],
   "source": [
    "data = dc.download_data(start_year=2020, end_year=2023)\n",
    "data = data.drop(['DESCRICAO', 'VL_SALDO_INICIAL'], axis=1)\n",
    "\n",
    "data.info()"
   ]
  },
  {
   "cell_type": "code",
   "execution_count": 8,
   "metadata": {},
   "outputs": [],
   "source": [
    "# seleciona somente as linhas relevantes do demonstrativo contabil e aplica módulo\n",
    "ans_contabil = data.loc[data['CD_CONTA_CONTABIL'].isin([3117, 31171, 41, 31])].copy()\n",
    "\n",
    "ans_contabil['VL_SALDO_FINAL'] = ans_contabil['VL_SALDO_FINAL'].apply(lambda x: float(x.replace(',', '.')))\n",
    "ans_contabil['VL_SALDO_FINAL'] = np.where(ans_contabil['CD_CONTA_CONTABIL'].isin([3117, 31171]), ans_contabil['VL_SALDO_FINAL'].abs(), ans_contabil['VL_SALDO_FINAL'])"
   ]
  },
  {
   "cell_type": "code",
   "execution_count": 12,
   "metadata": {},
   "outputs": [
    {
     "data": {
      "text/html": [
       "<div>\n",
       "<style scoped>\n",
       "    .dataframe tbody tr th:only-of-type {\n",
       "        vertical-align: middle;\n",
       "    }\n",
       "\n",
       "    .dataframe tbody tr th {\n",
       "        vertical-align: top;\n",
       "    }\n",
       "\n",
       "    .dataframe thead th {\n",
       "        text-align: right;\n",
       "    }\n",
       "</style>\n",
       "<table border=\"1\" class=\"dataframe\">\n",
       "  <thead>\n",
       "    <tr style=\"text-align: right;\">\n",
       "      <th></th>\n",
       "      <th>DATA</th>\n",
       "      <th>REG_ANS</th>\n",
       "      <th>CD_CONTA_CONTABIL</th>\n",
       "      <th>VL_SALDO_FINAL</th>\n",
       "    </tr>\n",
       "  </thead>\n",
       "  <tbody>\n",
       "    <tr>\n",
       "      <th>366</th>\n",
       "      <td>2021-10-01</td>\n",
       "      <td>422975</td>\n",
       "      <td>41</td>\n",
       "      <td>0.000000e+00</td>\n",
       "    </tr>\n",
       "    <tr>\n",
       "      <th>455</th>\n",
       "      <td>2021-10-01</td>\n",
       "      <td>422991</td>\n",
       "      <td>31</td>\n",
       "      <td>0.000000e+00</td>\n",
       "    </tr>\n",
       "    <tr>\n",
       "      <th>2077</th>\n",
       "      <td>2021-10-01</td>\n",
       "      <td>422991</td>\n",
       "      <td>3117</td>\n",
       "      <td>0.000000e+00</td>\n",
       "    </tr>\n",
       "    <tr>\n",
       "      <th>2078</th>\n",
       "      <td>2021-10-01</td>\n",
       "      <td>422991</td>\n",
       "      <td>31171</td>\n",
       "      <td>0.000000e+00</td>\n",
       "    </tr>\n",
       "    <tr>\n",
       "      <th>2685</th>\n",
       "      <td>2021-10-01</td>\n",
       "      <td>422614</td>\n",
       "      <td>31</td>\n",
       "      <td>5.672868e+05</td>\n",
       "    </tr>\n",
       "    <tr>\n",
       "      <th>...</th>\n",
       "      <td>...</td>\n",
       "      <td>...</td>\n",
       "      <td>...</td>\n",
       "      <td>...</td>\n",
       "    </tr>\n",
       "    <tr>\n",
       "      <th>9141213</th>\n",
       "      <td>2022-10-01</td>\n",
       "      <td>338346</td>\n",
       "      <td>41</td>\n",
       "      <td>1.851719e+07</td>\n",
       "    </tr>\n",
       "    <tr>\n",
       "      <th>9141585</th>\n",
       "      <td>2022-10-01</td>\n",
       "      <td>340162</td>\n",
       "      <td>41</td>\n",
       "      <td>4.080983e+06</td>\n",
       "    </tr>\n",
       "    <tr>\n",
       "      <th>9142193</th>\n",
       "      <td>2022-10-01</td>\n",
       "      <td>342131</td>\n",
       "      <td>31</td>\n",
       "      <td>3.998531e+07</td>\n",
       "    </tr>\n",
       "    <tr>\n",
       "      <th>9142408</th>\n",
       "      <td>2022-10-01</td>\n",
       "      <td>342386</td>\n",
       "      <td>41</td>\n",
       "      <td>2.659083e+07</td>\n",
       "    </tr>\n",
       "    <tr>\n",
       "      <th>9142548</th>\n",
       "      <td>2022-10-01</td>\n",
       "      <td>342807</td>\n",
       "      <td>41</td>\n",
       "      <td>1.378186e+08</td>\n",
       "    </tr>\n",
       "  </tbody>\n",
       "</table>\n",
       "<p>30159 rows × 4 columns</p>\n",
       "</div>"
      ],
      "text/plain": [
       "               DATA  REG_ANS  CD_CONTA_CONTABIL  VL_SALDO_FINAL\n",
       "366      2021-10-01   422975                 41    0.000000e+00\n",
       "455      2021-10-01   422991                 31    0.000000e+00\n",
       "2077     2021-10-01   422991               3117    0.000000e+00\n",
       "2078     2021-10-01   422991              31171    0.000000e+00\n",
       "2685     2021-10-01   422614                 31    5.672868e+05\n",
       "...             ...      ...                ...             ...\n",
       "9141213  2022-10-01   338346                 41    1.851719e+07\n",
       "9141585  2022-10-01   340162                 41    4.080983e+06\n",
       "9142193  2022-10-01   342131                 31    3.998531e+07\n",
       "9142408  2022-10-01   342386                 41    2.659083e+07\n",
       "9142548  2022-10-01   342807                 41    1.378186e+08\n",
       "\n",
       "[30159 rows x 4 columns]"
      ]
     },
     "execution_count": 12,
     "metadata": {},
     "output_type": "execute_result"
    }
   ],
   "source": [
    "# limpeza das datas no banco de dados\n",
    "ans_contabil"
   ]
  }
 ],
 "metadata": {
  "kernelspec": {
   "display_name": "env",
   "language": "python",
   "name": "python3"
  },
  "language_info": {
   "codemirror_mode": {
    "name": "ipython",
    "version": 3
   },
   "file_extension": ".py",
   "mimetype": "text/x-python",
   "name": "python",
   "nbconvert_exporter": "python",
   "pygments_lexer": "ipython3",
   "version": "3.11.5"
  }
 },
 "nbformat": 4,
 "nbformat_minor": 2
}
